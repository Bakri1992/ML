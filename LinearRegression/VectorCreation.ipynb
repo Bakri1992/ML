{
 "cells": [
  {
   "cell_type": "code",
   "execution_count": 45,
   "metadata": {},
   "outputs": [],
   "source": [
    "import numpy as np"
   ]
  },
  {
   "cell_type": "code",
   "execution_count": 46,
   "metadata": {},
   "outputs": [
    {
     "name": "stdout",
     "output_type": "stream",
     "text": [
      "[0. 0. 0. 0.]\n",
      "(4,)\n"
     ]
    }
   ],
   "source": [
    "a=np.zeros(4)\n",
    "print(a)\n",
    "print(a.shape)"
   ]
  },
  {
   "cell_type": "code",
   "execution_count": 47,
   "metadata": {},
   "outputs": [
    {
     "name": "stdout",
     "output_type": "stream",
     "text": [
      "[[0.44236513 0.04997798]\n",
      " [0.77390955 0.93782363]]\n"
     ]
    },
    {
     "data": {
      "text/plain": [
       "(2, 2)"
      ]
     },
     "execution_count": 47,
     "metadata": {},
     "output_type": "execute_result"
    }
   ],
   "source": [
    "# I give here as Parameter the shape of my matrix\n",
    "# random.sample generates me random sample of 2x2\n",
    "a = np.random.sample((2, 2))\n",
    "print(a)\n",
    "a.shape"
   ]
  },
  {
   "cell_type": "code",
   "execution_count": 48,
   "metadata": {},
   "outputs": [
    {
     "data": {
      "text/plain": [
       "array([1., 2., 3., 4., 5., 6., 7., 8., 9.])"
      ]
     },
     "execution_count": 48,
     "metadata": {},
     "output_type": "execute_result"
    }
   ],
   "source": [
    "a=np.arange(1,10,1,dtype=float)\n",
    "# from,to,step,dtype\n",
    "a"
   ]
  },
  {
   "cell_type": "code",
   "execution_count": 49,
   "metadata": {},
   "outputs": [
    {
     "name": "stdout",
     "output_type": "stream",
     "text": [
      "[0 1 2 3] [0.5792328  0.53516563 0.80204309 0.24814448]\n"
     ]
    }
   ],
   "source": [
    "a=np.arange(4)\n",
    "b=np.random.rand(4)\n",
    "print(a,b)"
   ]
  },
  {
   "cell_type": "code",
   "execution_count": 50,
   "metadata": {},
   "outputs": [
    {
     "name": "stdout",
     "output_type": "stream",
     "text": [
      "my array= [5 4 3 2] and the data type is int32\n",
      "my array= [5. 4. 3. 2.] and the data type is float64\n"
     ]
    }
   ],
   "source": [
    "a=np.array([5,4,3,2])\n",
    "b=np.array([5.,4.,3.,2.])\n",
    "print(f\"my array= {a} and the data type is {a.dtype}\")\n",
    "print(f\"my array= {b} and the data type is {b.dtype}\")"
   ]
  },
  {
   "cell_type": "markdown",
   "metadata": {},
   "source": [
    "##### Operation on Vectors:"
   ]
  },
  {
   "cell_type": "code",
   "execution_count": 51,
   "metadata": {},
   "outputs": [
    {
     "name": "stdout",
     "output_type": "stream",
     "text": [
      "[0 1 2 3 4 5 6 7 8 9]\n",
      "(10,)\n",
      "3\n",
      "9\n"
     ]
    }
   ],
   "source": [
    "# Vector indexing operation on 1-D vectors\n",
    "a=np.arange(10)\n",
    "print(a)\n",
    "print(a.shape)\n",
    "print(a[3])\n",
    "print(a[-1])"
   ]
  },
  {
   "cell_type": "code",
   "execution_count": 52,
   "metadata": {},
   "outputs": [
    {
     "name": "stdout",
     "output_type": "stream",
     "text": [
      "[1 2 3 4]\n",
      "[-1 -2 -3 -4]\n",
      "10\n",
      "2.5\n",
      "[ 1  4  9 16]\n"
     ]
    }
   ],
   "source": [
    "a=np.array([1,2,3,4])\n",
    "print(a)\n",
    "b=-a\n",
    "print(b)\n",
    "c=np.sum(a)\n",
    "print(c)\n",
    "d=np.mean(a)\n",
    "print(d)\n",
    "f=a**2\n",
    "print(f)"
   ]
  },
  {
   "cell_type": "code",
   "execution_count": 53,
   "metadata": {},
   "outputs": [
    {
     "name": "stdout",
     "output_type": "stream",
     "text": [
      "[0.59096694 0.32950282 0.98797985 0.86846315 0.16452144 0.80277814]\n",
      "[0.02503441 0.89766393 0.41783454 0.53671084 0.19721356 0.26810967]\n",
      "[0.61600136 1.22716675 1.40581439 1.40517399 0.361735   1.07088782]\n"
     ]
    }
   ],
   "source": [
    "# Vector Vector element-wise operations\n",
    "a=np.random.rand(6)\n",
    "print(a)\n",
    "b=np.random.rand(6)\n",
    "print(b)\n",
    "c=a+b\n",
    "print(c)"
   ]
  },
  {
   "cell_type": "code",
   "execution_count": 54,
   "metadata": {},
   "outputs": [
    {
     "name": "stdout",
     "output_type": "stream",
     "text": [
      "[ 5 10 15 20]\n"
     ]
    }
   ],
   "source": [
    "# Scalar Vector operations\n",
    "a=np.array([1,2,3,4])\n",
    "b=5*a\n",
    "print(b)"
   ]
  },
  {
   "cell_type": "markdown",
   "metadata": {},
   "source": [
    "##### Vector Vector dot product\n",
    "The dot product is a mainstay of Linear Algebra and NumPy. This is an operation used extensively in this course and should be well understood. The dot product is shown below."
   ]
  },
  {
   "cell_type": "code",
   "execution_count": 55,
   "metadata": {},
   "outputs": [],
   "source": [
    "# Lets define a function that multiply two vectors together\n",
    "def my_dot(a,b):\n",
    "    \"\"\"\n",
    "    Compute the dot product of two vectors\n",
    "    Args:\n",
    "        a => np array : input vector \n",
    "        b => np array : input vector\n",
    "    Returns:\n",
    "        Result of dot Products of two vectors\n",
    "    \"\"\"\n",
    "    x=0\n",
    "    for i in range(a.shape[0]):\n",
    "        x=x +a[i]*b[i]\n",
    "    return x\n"
   ]
  },
  {
   "cell_type": "code",
   "execution_count": 56,
   "metadata": {},
   "outputs": [
    {
     "name": "stdout",
     "output_type": "stream",
     "text": [
      "24\n"
     ]
    }
   ],
   "source": [
    "a=np.array([1,2,3,4])\n",
    "b=np.array([-1,4,3,2])\n",
    "x=my_dot(a,b)\n",
    "print(x)"
   ]
  },
  {
   "cell_type": "code",
   "execution_count": 57,
   "metadata": {},
   "outputs": [
    {
     "name": "stdout",
     "output_type": "stream",
     "text": [
      "24\n"
     ]
    }
   ],
   "source": [
    "# This operation using my build in function is expensive and take times\n",
    "# Instead of this we do use the dot operation of numpy\n",
    "print(np.dot(a,b))"
   ]
  },
  {
   "cell_type": "markdown",
   "metadata": {},
   "source": [
    "##### Performance test:\n",
    "Lets do compare in time execution"
   ]
  },
  {
   "cell_type": "code",
   "execution_count": 58,
   "metadata": {},
   "outputs": [],
   "source": [
    "import time"
   ]
  },
  {
   "cell_type": "code",
   "execution_count": 59,
   "metadata": {},
   "outputs": [
    {
     "name": "stdout",
     "output_type": "stream",
     "text": [
      "Execution time using the dot function of numpy is 5.1422 ms\n"
     ]
    }
   ],
   "source": [
    "np.random.seed(1)\n",
    "a=np.random.rand(10000000)\n",
    "b=np.random.rand(10000000)\n",
    "tic=time.time()\n",
    "c=np.dot(a,b)\n",
    "toc=time.time()\n",
    "# We multiply the the result with 1000 to convert from seconds to ms\n",
    "print(f\"Execution time using the dot function of numpy is {1000*(toc-tic):.4f} ms\")"
   ]
  },
  {
   "cell_type": "code",
   "execution_count": 60,
   "metadata": {},
   "outputs": [
    {
     "name": "stdout",
     "output_type": "stream",
     "text": [
      "Execution time using the my dot function of numpy is 1865.3212 ms\n"
     ]
    }
   ],
   "source": [
    "tic=time.time()\n",
    "c=my_dot(a,b)\n",
    "toc=time.time()\n",
    "# We multiply the the result with 1000 to convert from seconds to ms\n",
    "print(f\"Execution time using the my dot function of numpy is {1000*(toc-tic):.4f} ms\")"
   ]
  },
  {
   "cell_type": "code",
   "execution_count": 62,
   "metadata": {},
   "outputs": [
    {
     "name": "stdout",
     "output_type": "stream",
     "text": [
      "[0. 0. 0. 0. 0.] [[0. 0. 0. 0. 0.]]\n"
     ]
    }
   ],
   "source": [
    "a=np.zeros((5))\n",
    "b=np.zeros((1,5))\n",
    "# Notice that \n",
    "print(a,b)"
   ]
  },
  {
   "cell_type": "code",
   "execution_count": 64,
   "metadata": {},
   "outputs": [
    {
     "name": "stdout",
     "output_type": "stream",
     "text": [
      "[0 1 2 3 4 5]\n",
      "[[0 1]\n",
      " [2 3]\n",
      " [4 5]]\n"
     ]
    }
   ],
   "source": [
    "# reshape()\n",
    "a=np.arange(6)\n",
    "print(a)\n",
    "# -1 means as much rows as needed & 2 refers to columns\n",
    "b=a.reshape(-1,2)\n",
    "print(b)"
   ]
  },
  {
   "cell_type": "code",
   "execution_count": 69,
   "metadata": {},
   "outputs": [
    {
     "name": "stdout",
     "output_type": "stream",
     "text": [
      "1\n",
      "1\n",
      "[2 3]\n"
     ]
    }
   ],
   "source": [
    "# How to access the element in the first line second col\n",
    "# We have two avialable\n",
    "print(b[0][1])\n",
    "print(b[0,1])\n",
    "# How to access the second row\n",
    "print(b[1])"
   ]
  },
  {
   "cell_type": "code",
   "execution_count": 72,
   "metadata": {},
   "outputs": [
    {
     "name": "stdout",
     "output_type": "stream",
     "text": [
      "[[ 0  1  2  3  4  5  6  7  8  9]\n",
      " [10 11 12 13 14 15 16 17 18 19]]\n",
      "[0 1 2 3 4 5 6 7 8 9]\n"
     ]
    }
   ],
   "source": [
    "a=np.arange(20).reshape(-1,10)\n",
    "print(a)\n",
    "print(a[0])"
   ]
  },
  {
   "cell_type": "code",
   "execution_count": null,
   "metadata": {},
   "outputs": [],
   "source": []
  }
 ],
 "metadata": {
  "kernelspec": {
   "display_name": "Python 3",
   "language": "python",
   "name": "python3"
  },
  "language_info": {
   "codemirror_mode": {
    "name": "ipython",
    "version": 3
   },
   "file_extension": ".py",
   "mimetype": "text/x-python",
   "name": "python",
   "nbconvert_exporter": "python",
   "pygments_lexer": "ipython3",
   "version": "3.12.0"
  }
 },
 "nbformat": 4,
 "nbformat_minor": 2
}
